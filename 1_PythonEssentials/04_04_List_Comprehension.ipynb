{
 "cells": [
  {
   "cell_type": "markdown",
   "source": [
    "# List Comprehension"
   ],
   "metadata": {
    "collapsed": false
   }
  },
  {
   "cell_type": "code",
   "execution_count": 2,
   "outputs": [
    {
     "name": "stdout",
     "output_type": "stream",
     "text": [
      "[1, 2, 3, 4, 5, 6, 7, 8, 9, 10]\n",
      "[2, 4, 6, 8, 10]\n",
      "[1, 3, 5, 7, 9]\n",
      "[1, 4, 9, 16, 25, 36, 49, 64, 81, 100]\n",
      "[2, 4, 6, 8, 10, 12, 14, 16, 18, 20]\n"
     ]
    }
   ],
   "source": [
    "# create a list of integers from 1 to 10 named myList\n",
    "myList = [i for i in range(1,11)]\n",
    "print(myList)\n",
    "# use list comprehension to create a list of even numbers\n",
    "myList = [i for i in range(1,11) if i%2==0]\n",
    "print(myList)\n",
    "# use list comprehension to create a list of odd numbers\n",
    "myList=[i for i in range(1,11) if i%2!=0]\n",
    "print(myList)\n",
    "# use list comprehension to create a list of squares\n",
    "myList=[i**2 for i in range(1,11)]\n",
    "print(myList)\n",
    "# use list comprehension to create a list of doubles\n",
    "myList=[i*2 for i in range(1,11)]\n",
    "print(myList)"
   ],
   "metadata": {
    "collapsed": false,
    "ExecuteTime": {
     "end_time": "2023-06-02T13:31:44.082717Z",
     "start_time": "2023-06-02T13:31:44.079535Z"
    }
   }
  },
  {
   "cell_type": "markdown",
   "source": [
    "## List Comprehension with filters"
   ],
   "metadata": {
    "collapsed": false
   }
  },
  {
   "cell_type": "code",
   "execution_count": 7,
   "outputs": [
    {
     "name": "stdout",
     "output_type": "stream",
     "text": [
      "[1, 2, 3, 4, 5, 6, 7, 8, 9, 10, 11, 12, 13, 14, 15, 16, 17, 18, 19, 20, 21, 22, 23, 24, 25, 26, 27, 28, 29, 30, 31, 32, 33, 34, 35, 36, 37, 38, 39, 40, 41, 42, 43, 44, 45, 46, 47, 48, 49, 50, 51, 52, 53, 54, 55, 56, 57, 58, 59, 60, 61, 62, 63, 64, 65, 66, 67, 68, 69, 70, 71, 72, 73, 74, 75, 76, 77, 78, 79, 80, 81, 82, 83, 84, 85, 86, 87, 88, 89, 90, 91, 92, 93, 94, 95, 96, 97, 98, 99, 100]\n",
      "[2, 4, 6, 8, 10, 12, 14, 16, 18, 20, 22, 24, 26, 28, 30, 32, 34, 36, 38, 40, 42, 44, 46, 48, 50, 52, 54, 56, 58, 60, 62, 64, 66, 68, 70, 72, 74, 76, 78, 80, 82, 84, 86, 88, 90, 92, 94, 96, 98, 100]\n",
      "[1, 2, 3, 4, 5, 6, 7, 8, 9]\n",
      "[10, 20, 30, 40, 50, 60, 70, 80, 90, 100]\n",
      "[1, 2, 10, 11, 12, 20, 21, 22, 30, 31, 32, 40, 41, 42, 50, 51, 52, 60, 61, 62, 70, 71, 72, 80, 81, 82, 90, 91, 92, 100]\n",
      "[3, 4, 5, 6, 7, 8, 9, 13, 14, 15, 16, 17, 18, 19]\n",
      "[1, 2, 3, 5, 7, 11, 13, 17, 19, 23, 29, 31, 37, 41, 43, 47, 53, 59, 61, 67, 71, 73, 79, 83, 89, 97]\n"
     ]
    }
   ],
   "source": [
    "# create a list of integers from 1 to 100 named myList\n",
    "myList = [i for i in range(1,101)]\n",
    "print(myList)\n",
    "# use list comprehension to filter out even numbers\n",
    "myList = [i for i in range(1,101) if i%2==0]\n",
    "print(myList)\n",
    "# use list comprehension to filter out numbers less than 10\n",
    "myList=[i for i in range(1,101) if i<10]\n",
    "print(myList)\n",
    "# use list comprehension to print all the numbers at every 10th position\n",
    "myList=[i for i in range(1,101) if i%10==0]\n",
    "print(myList)\n",
    "# use list comprehension to print all the numbers where remaining is <3\n",
    "myList=[i for i in range(1,101) if i%10<3]\n",
    "print(myList)\n",
    "# use list comprehension to print all the numbers where remaining is >=3 and number is >20\n",
    "myList=[i for i in range(1,101) if i%10>=3 and i<20]\n",
    "print(myList)\n",
    "# use list comprehension to print all prime numbers\n",
    "myList=[i for i in range(1,101) if all(i%j!=0 for j in range(2,i))]\n",
    "print(myList)\n"
   ],
   "metadata": {
    "collapsed": false,
    "ExecuteTime": {
     "end_time": "2023-06-02T13:38:50.507536Z",
     "start_time": "2023-06-02T13:38:50.502843Z"
    }
   }
  },
  {
   "cell_type": "markdown",
   "source": [],
   "metadata": {
    "collapsed": false
   }
  },
  {
   "cell_type": "markdown",
   "source": [
    "## List Comprehension with Functions"
   ],
   "metadata": {
    "collapsed": false
   }
  },
  {
   "cell_type": "code",
   "execution_count": 41,
   "outputs": [
    {
     "name": "stdout",
     "output_type": "stream",
     "text": [
      "This is the first Sentence. This is the Second sentence. This is the third sentence\n",
      "['This', 'is', 'the', 'first', 'Sentence.', 'This', 'is', 'the', 'Second', 'sentence.', 'This', 'is', 'the', 'third', 'sentence']\n"
     ]
    }
   ],
   "source": [
    "# create a String with 3 long sentences having delimiter '.'\n",
    "myString = \"This is the first Sentence. This is the Second sentence. This is the third sentence\"\n",
    "print(myString)\n",
    "# split the string into a list of words at delimiters ' '\n",
    "myList = myString.split(' ')\n",
    "print(myList)"
   ],
   "metadata": {
    "collapsed": false,
    "ExecuteTime": {
     "end_time": "2023-06-02T14:12:31.249459Z",
     "start_time": "2023-06-02T14:12:31.245553Z"
    }
   }
  },
  {
   "cell_type": "code",
   "execution_count": 24,
   "outputs": [
    {
     "name": "stdout",
     "output_type": "stream",
     "text": [
      "arafat\n"
     ]
    }
   ],
   "source": [
    "# method to remove all special characters from a string\n",
    "def remove_special_characters(myString):\n",
    "    myList = [i for i in myString if i.isalnum()]\n",
    "    return ''.join(myList).lower()\n",
    "print(remove_special_characters(\"<><@@Arafat.<?\"))"
   ],
   "metadata": {
    "collapsed": false,
    "ExecuteTime": {
     "end_time": "2023-06-02T14:03:47.674700Z",
     "start_time": "2023-06-02T14:03:47.667877Z"
    }
   }
  },
  {
   "cell_type": "code",
   "execution_count": 25,
   "outputs": [
    {
     "name": "stdout",
     "output_type": "stream",
     "text": [
      "['this', 'is', 'the', 'first', 'sentence', 'this', 'is', 'the', 'second', 'sentence', 'this', 'is', 'the', 'third', 'sentence']\n",
      "['is', 'the', 'is', 'the', 'is', 'the']\n"
     ]
    }
   ],
   "source": [
    "# use list comprehension to filter myList with the remove_special_characters function\n",
    "myList = [remove_special_characters(word) for word in myList]\n",
    "print(myList)\n",
    "# use list comprehension to filter myList with the remove_special_characters function where the word length is less than 3\n",
    "myList = [remove_special_characters(word) for word in myList if len(word)<=3]\n",
    "print(myList)"
   ],
   "metadata": {
    "collapsed": false,
    "ExecuteTime": {
     "end_time": "2023-06-02T14:03:51.263406Z",
     "start_time": "2023-06-02T14:03:51.259560Z"
    }
   }
  },
  {
   "cell_type": "code",
   "execution_count": 38,
   "outputs": [
    {
     "name": "stdout",
     "output_type": "stream",
     "text": [
      "['This is the first Sentence', ' This is the Second sentence', ' This is the third sentence', '']\n"
     ]
    }
   ],
   "source": [
    "mySentences = myString.split('.')\n",
    "print(mySentences)"
   ],
   "metadata": {
    "collapsed": false,
    "ExecuteTime": {
     "end_time": "2023-06-02T14:11:59.593733Z",
     "start_time": "2023-06-02T14:11:59.590064Z"
    }
   }
  },
  {
   "cell_type": "code",
   "execution_count": 42,
   "outputs": [
    {
     "name": "stdout",
     "output_type": "stream",
     "text": [
      "3\n"
     ]
    }
   ],
   "source": [
    "# use nested list comprehension to filter mySentences with the remove_special_characters function\n",
    "mySentences = [[remove_special_characters(word) for word in sentence.split()] for sentence in myString.split('.')]\n",
    "mySentences\n",
    "print(len(mySentences))"
   ],
   "metadata": {
    "collapsed": false,
    "ExecuteTime": {
     "end_time": "2023-06-02T14:12:36.212394Z",
     "start_time": "2023-06-02T14:12:36.205529Z"
    }
   }
  },
  {
   "cell_type": "code",
   "execution_count": 43,
   "outputs": [],
   "source": [],
   "metadata": {
    "collapsed": false,
    "ExecuteTime": {
     "end_time": "2023-06-02T14:13:56.950395Z",
     "start_time": "2023-06-02T14:13:56.946866Z"
    }
   }
  },
  {
   "cell_type": "code",
   "execution_count": null,
   "outputs": [],
   "source": [],
   "metadata": {
    "collapsed": false
   }
  }
 ],
 "metadata": {
  "kernelspec": {
   "display_name": "Python 3",
   "language": "python",
   "name": "python3"
  },
  "language_info": {
   "codemirror_mode": {
    "name": "ipython",
    "version": 2
   },
   "file_extension": ".py",
   "mimetype": "text/x-python",
   "name": "python",
   "nbconvert_exporter": "python",
   "pygments_lexer": "ipython2",
   "version": "2.7.6"
  }
 },
 "nbformat": 4,
 "nbformat_minor": 0
}
