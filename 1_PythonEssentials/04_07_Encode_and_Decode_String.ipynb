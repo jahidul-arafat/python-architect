{
 "cells": [
  {
   "cell_type": "markdown",
   "source": [
    "# Challenge"
   ],
   "metadata": {
    "collapsed": false
   }
  },
  {
   "cell_type": "code",
   "execution_count": 1,
   "outputs": [],
   "source": [
    "def encodeString(s):\n",
    "    # count the frequency of each character in the string\n",
    "    freq = {}\n",
    "    for c in s:\n",
    "        freq[c] = s.count(c)\n",
    "    return [(k,v) for k, v in freq.items()]"
   ],
   "metadata": {
    "collapsed": false,
    "ExecuteTime": {
     "end_time": "2023-06-01T05:52:26.864858Z",
     "start_time": "2023-06-01T05:52:26.860247Z"
    }
   }
  },
  {
   "cell_type": "code",
   "execution_count": 4,
   "outputs": [],
   "source": [
    "x=encodeString('AAAAABBBBCCCCDDDDE')"
   ],
   "metadata": {
    "collapsed": false,
    "ExecuteTime": {
     "end_time": "2023-06-01T05:54:46.501157Z",
     "start_time": "2023-06-01T05:54:46.495750Z"
    }
   }
  },
  {
   "cell_type": "code",
   "execution_count": 7,
   "outputs": [],
   "source": [
    "def decodeString(s):\n",
    "    decodedStr=''\n",
    "    for k,v in s:\n",
    "        decodedStr+=k*v\n",
    "    return decodedStr"
   ],
   "metadata": {
    "collapsed": false,
    "ExecuteTime": {
     "end_time": "2023-06-01T05:55:00.921305Z",
     "start_time": "2023-06-01T05:55:00.915145Z"
    }
   }
  },
  {
   "cell_type": "code",
   "execution_count": 8,
   "outputs": [
    {
     "data": {
      "text/plain": "'AAAAABBBBCCCCDDDDE'"
     },
     "execution_count": 8,
     "metadata": {},
     "output_type": "execute_result"
    }
   ],
   "source": [
    "decodeString(x)"
   ],
   "metadata": {
    "collapsed": false,
    "ExecuteTime": {
     "end_time": "2023-06-01T05:55:02.491585Z",
     "start_time": "2023-06-01T05:55:02.483369Z"
    }
   }
  },
  {
   "cell_type": "code",
   "execution_count": 9,
   "outputs": [],
   "source": [
    "art = '''\n",
    "\n",
    "\n",
    "\n",
    "                               %%%%%%%%%%%%%%%%%%%\n",
    "                        %%%%%%%%%%%%%%%%%%%%%%%%%%%%%%%%%\n",
    "                    %%%%%%%%                         %%%%%%%%\n",
    "                %%%%%%%                                   %%%%%%\n",
    "              %%%%%%                                         %%%%%%\n",
    "           %%%%%%                                               %%%%%\n",
    "          %%%%%                                                   %%%%%\n",
    "        %%%%%                                                       %%%%%\n",
    "       %%%%                 %%%%%              %%%%%                  %%%%\n",
    "      %%%%                 %%%%%%%            %%%%%%%                  %%%%\n",
    "     %%%%                  %%%%%%%            %%%%%%%                   %%%%\n",
    "    %%%%                   %%%%%%%            %%%%%%%                    %%%%\n",
    "    %%%%                    %%%%%              %%%%%                     %%%%\n",
    "   %%%%                                                                   %%%%\n",
    "   %%%%                                                                   %%%%\n",
    "   %%%%                                                                   %%%%\n",
    "   %%%%                                                      %%%%        %%%%\n",
    "    %%%%       %%%%%%                                        %%%%%       %%%%\n",
    "    %%%%         %%%%                                       %%%%        %%%%\n",
    "     %%%%         %%%%                                     %%%%         %%%%\n",
    "      %%%%         %%%%%                                  %%%%         %%%%\n",
    "       %%%%%         %%%%%                             %%%%%         %%%%%\n",
    "        %%%%%          %%%%%%                        %%%%%          %%%%\n",
    "          %%%%%           %%%%%%%               %%%%%%%           %%%%%\n",
    "            %%%%%             %%%%%%%%%%%%%%%%%%%%%             %%%%%\n",
    "              %%%%%%%                                        %%%%%\n",
    "                 %%%%%%%                                 %%%%%%%\n",
    "                     %%%%%%%%%                     %%%%%%%%%\n",
    "                          %%%%%%%%%%%%%%%%%%%%%%%%%%%%%\n",
    "                                   %%%%%%%%%%%%\n",
    "\n",
    "\n",
    "\n",
    "'''"
   ],
   "metadata": {
    "collapsed": false,
    "ExecuteTime": {
     "end_time": "2023-06-01T05:57:14.926073Z",
     "start_time": "2023-06-01T05:57:14.921654Z"
    }
   }
  },
  {
   "cell_type": "code",
   "execution_count": 10,
   "outputs": [],
   "source": [
    "encodedArt= encodeString(art)"
   ],
   "metadata": {
    "collapsed": false,
    "ExecuteTime": {
     "end_time": "2023-06-01T05:57:29.739015Z",
     "start_time": "2023-06-01T05:57:29.736342Z"
    }
   }
  },
  {
   "cell_type": "code",
   "execution_count": 11,
   "outputs": [
    {
     "data": {
      "text/plain": "[('\\n', 37), (' ', 2211), ('%', 510)]"
     },
     "execution_count": 11,
     "metadata": {},
     "output_type": "execute_result"
    }
   ],
   "source": [
    "encodedArt"
   ],
   "metadata": {
    "collapsed": false,
    "ExecuteTime": {
     "end_time": "2023-06-01T05:57:34.551018Z",
     "start_time": "2023-06-01T05:57:34.545188Z"
    }
   }
  },
  {
   "cell_type": "code",
   "execution_count": 13,
   "outputs": [
    {
     "data": {
      "text/plain": "'\\n\\n\\n\\n\\n\\n\\n\\n\\n\\n\\n\\n\\n\\n\\n\\n\\n\\n\\n\\n\\n\\n\\n\\n\\n\\n\\n\\n\\n\\n\\n\\n\\n\\n\\n\\n\\n                                                                                                                                                                                                                                                                                                                                                                                                                                                                                                                                                                                                                                                                                                                                                                                                                                                                                                                                                                                                                                                                                                                                                                                                                                                                                                                                                                                                                                                                                                                                                                                                                                                                                                                                                                                                                                                                                                                                                                                                                                                                                                                                                                                                                                                                                                   %%%%%%%%%%%%%%%%%%%%%%%%%%%%%%%%%%%%%%%%%%%%%%%%%%%%%%%%%%%%%%%%%%%%%%%%%%%%%%%%%%%%%%%%%%%%%%%%%%%%%%%%%%%%%%%%%%%%%%%%%%%%%%%%%%%%%%%%%%%%%%%%%%%%%%%%%%%%%%%%%%%%%%%%%%%%%%%%%%%%%%%%%%%%%%%%%%%%%%%%%%%%%%%%%%%%%%%%%%%%%%%%%%%%%%%%%%%%%%%%%%%%%%%%%%%%%%%%%%%%%%%%%%%%%%%%%%%%%%%%%%%%%%%%%%%%%%%%%%%%%%%%%%%%%%%%%%%%%%%%%%%%%%%%%%%%%%%%%%%%%%%%%%%%%%%%%%%%%%%%%%%%%%%%%%%%%%%%%%%%%%%%%%%%%%%%%%%%%%%%%%%%%%%%%%%%%%%%%%%%%%%%%%%%%%%%%%%%%%%%%%%%%%%%%%%%%%%%%%%%%%%%%%%%%%%%%%%%%%%%%%%%%%%%%%%%%%%%%%%%%%%%%%%%%%'"
     },
     "execution_count": 13,
     "metadata": {},
     "output_type": "execute_result"
    }
   ],
   "source": [
    "decodeString(encodedArt)"
   ],
   "metadata": {
    "collapsed": false,
    "ExecuteTime": {
     "end_time": "2023-06-01T05:59:16.449934Z",
     "start_time": "2023-06-01T05:59:16.440878Z"
    }
   }
  },
  {
   "cell_type": "code",
   "execution_count": 14,
   "outputs": [],
   "source": [
    "def encodeString(stringVal):\n",
    "    encodedList = []\n",
    "    prevChar = stringVal[0]\n",
    "    count = 0\n",
    "    for char in stringVal:\n",
    "        if prevChar != char:\n",
    "            encodedList.append((prevChar, count))\n",
    "            count = 0\n",
    "        prevChar = char\n",
    "        count = count + 1\n",
    "\n",
    "    encodedList.append((prevChar, count))\n",
    "    return encodedList\n",
    "\n",
    "def decodeString(encodedList):\n",
    "    decodedStr = ''\n",
    "    for item in encodedList:\n",
    "        decodedStr = decodedStr + item[0] * item[1]\n",
    "    return decodedStr"
   ],
   "metadata": {
    "collapsed": false,
    "ExecuteTime": {
     "end_time": "2023-06-01T05:59:24.743596Z",
     "start_time": "2023-06-01T05:59:24.738256Z"
    }
   }
  },
  {
   "cell_type": "code",
   "execution_count": 15,
   "outputs": [],
   "source": [
    "encodedArt = encodeString(art)"
   ],
   "metadata": {
    "collapsed": false,
    "ExecuteTime": {
     "end_time": "2023-06-01T05:59:38.169252Z",
     "start_time": "2023-06-01T05:59:38.163563Z"
    }
   }
  },
  {
   "cell_type": "code",
   "execution_count": 16,
   "outputs": [
    {
     "data": {
      "text/plain": "[('\\n', 2),\n (' ', 80),\n ('\\n', 1),\n (' ', 80),\n ('\\n', 1),\n (' ', 31),\n ('%', 19),\n (' ', 30),\n ('\\n', 1),\n (' ', 24),\n ('%', 33),\n (' ', 23),\n ('\\n', 1),\n (' ', 20),\n ('%', 8),\n (' ', 25),\n ('%', 8),\n (' ', 19),\n ('\\n', 1),\n (' ', 16),\n ('%', 7),\n (' ', 35),\n ('%', 6),\n (' ', 16),\n ('\\n', 1),\n (' ', 14),\n ('%', 6),\n (' ', 41),\n ('%', 6),\n (' ', 13),\n ('\\n', 1),\n (' ', 11),\n ('%', 6),\n (' ', 47),\n ('%', 5),\n (' ', 11),\n ('\\n', 1),\n (' ', 10),\n ('%', 5),\n (' ', 51),\n ('%', 5),\n (' ', 9),\n ('\\n', 1),\n (' ', 8),\n ('%', 5),\n (' ', 55),\n ('%', 5),\n (' ', 7),\n ('\\n', 1),\n (' ', 7),\n ('%', 4),\n (' ', 17),\n ('%', 5),\n (' ', 14),\n ('%', 5),\n (' ', 18),\n ('%', 4),\n (' ', 6),\n ('\\n', 1),\n (' ', 6),\n ('%', 4),\n (' ', 17),\n ('%', 7),\n (' ', 12),\n ('%', 7),\n (' ', 18),\n ('%', 4),\n (' ', 5),\n ('\\n', 1),\n (' ', 5),\n ('%', 4),\n (' ', 18),\n ('%', 7),\n (' ', 12),\n ('%', 7),\n (' ', 19),\n ('%', 4),\n (' ', 4),\n ('\\n', 1),\n (' ', 4),\n ('%', 4),\n (' ', 19),\n ('%', 7),\n (' ', 12),\n ('%', 7),\n (' ', 20),\n ('%', 4),\n (' ', 3),\n ('\\n', 1),\n (' ', 4),\n ('%', 4),\n (' ', 20),\n ('%', 5),\n (' ', 14),\n ('%', 5),\n (' ', 21),\n ('%', 4),\n (' ', 3),\n ('\\n', 1),\n (' ', 3),\n ('%', 4),\n (' ', 67),\n ('%', 4),\n (' ', 2),\n ('\\n', 1),\n (' ', 3),\n ('%', 4),\n (' ', 67),\n ('%', 4),\n (' ', 2),\n ('\\n', 1),\n (' ', 3),\n ('%', 4),\n (' ', 67),\n ('%', 4),\n (' ', 2),\n ('\\n', 1),\n (' ', 3),\n ('%', 4),\n (' ', 54),\n ('%', 4),\n (' ', 8),\n ('%', 4),\n (' ', 3),\n ('\\n', 1),\n (' ', 4),\n ('%', 4),\n (' ', 7),\n ('%', 6),\n (' ', 40),\n ('%', 5),\n (' ', 7),\n ('%', 4),\n (' ', 3),\n ('\\n', 1),\n (' ', 4),\n ('%', 4),\n (' ', 9),\n ('%', 4),\n (' ', 39),\n ('%', 4),\n (' ', 8),\n ('%', 4),\n (' ', 4),\n ('\\n', 1),\n (' ', 5),\n ('%', 4),\n (' ', 9),\n ('%', 4),\n (' ', 37),\n ('%', 4),\n (' ', 9),\n ('%', 4),\n (' ', 4),\n ('\\n', 1),\n (' ', 6),\n ('%', 4),\n (' ', 9),\n ('%', 5),\n (' ', 34),\n ('%', 4),\n (' ', 9),\n ('%', 4),\n (' ', 5),\n ('\\n', 1),\n (' ', 7),\n ('%', 5),\n (' ', 9),\n ('%', 5),\n (' ', 29),\n ('%', 5),\n (' ', 9),\n ('%', 5),\n (' ', 6),\n ('\\n', 1),\n (' ', 8),\n ('%', 5),\n (' ', 10),\n ('%', 6),\n (' ', 24),\n ('%', 5),\n (' ', 10),\n ('%', 4),\n (' ', 8),\n ('\\n', 1),\n (' ', 10),\n ('%', 5),\n (' ', 11),\n ('%', 7),\n (' ', 15),\n ('%', 7),\n (' ', 11),\n ('%', 5),\n (' ', 9),\n ('\\n', 1),\n (' ', 12),\n ('%', 5),\n (' ', 13),\n ('%', 21),\n (' ', 13),\n ('%', 5),\n (' ', 11),\n ('\\n', 1),\n (' ', 14),\n ('%', 7),\n (' ', 40),\n ('%', 5),\n (' ', 14),\n ('\\n', 1),\n (' ', 17),\n ('%', 7),\n (' ', 33),\n ('%', 7),\n (' ', 16),\n ('\\n', 1),\n (' ', 21),\n ('%', 9),\n (' ', 21),\n ('%', 9),\n (' ', 20),\n ('\\n', 1),\n (' ', 26),\n ('%', 29),\n (' ', 25),\n ('\\n', 1),\n (' ', 35),\n ('%', 12),\n (' ', 33),\n ('\\n', 1),\n (' ', 80),\n ('\\n', 1),\n (' ', 81),\n ('\\n', 2)]"
     },
     "execution_count": 16,
     "metadata": {},
     "output_type": "execute_result"
    }
   ],
   "source": [
    "encodedArt"
   ],
   "metadata": {
    "collapsed": false,
    "ExecuteTime": {
     "end_time": "2023-06-01T05:59:40.435318Z",
     "start_time": "2023-06-01T05:59:40.429682Z"
    }
   }
  },
  {
   "cell_type": "code",
   "execution_count": 17,
   "outputs": [
    {
     "data": {
      "text/plain": "[('A', 5), ('B', 4), ('C', 4), ('D', 4), ('E', 1)]"
     },
     "execution_count": 17,
     "metadata": {},
     "output_type": "execute_result"
    }
   ],
   "source": [
    "x = encodeString('AAAAABBBBCCCCDDDDE')\n",
    "x"
   ],
   "metadata": {
    "collapsed": false,
    "ExecuteTime": {
     "end_time": "2023-06-01T06:00:24.744637Z",
     "start_time": "2023-06-01T06:00:24.739858Z"
    }
   }
  },
  {
   "cell_type": "code",
   "execution_count": 19,
   "outputs": [
    {
     "data": {
      "text/plain": "'\\n\\n                                                                                \\n                                                                                \\n                               %%%%%%%%%%%%%%%%%%%                              \\n                        %%%%%%%%%%%%%%%%%%%%%%%%%%%%%%%%%                       \\n                    %%%%%%%%                         %%%%%%%%                   \\n                %%%%%%%                                   %%%%%%                \\n              %%%%%%                                         %%%%%%             \\n           %%%%%%                                               %%%%%           \\n          %%%%%                                                   %%%%%         \\n        %%%%%                                                       %%%%%       \\n       %%%%                 %%%%%              %%%%%                  %%%%      \\n      %%%%                 %%%%%%%            %%%%%%%                  %%%%     \\n     %%%%                  %%%%%%%            %%%%%%%                   %%%%    \\n    %%%%                   %%%%%%%            %%%%%%%                    %%%%   \\n    %%%%                    %%%%%              %%%%%                     %%%%   \\n   %%%%                                                                   %%%%  \\n   %%%%                                                                   %%%%  \\n   %%%%                                                                   %%%%  \\n   %%%%                                                      %%%%        %%%%   \\n    %%%%       %%%%%%                                        %%%%%       %%%%   \\n    %%%%         %%%%                                       %%%%        %%%%    \\n     %%%%         %%%%                                     %%%%         %%%%    \\n      %%%%         %%%%%                                  %%%%         %%%%     \\n       %%%%%         %%%%%                             %%%%%         %%%%%      \\n        %%%%%          %%%%%%                        %%%%%          %%%%        \\n          %%%%%           %%%%%%%               %%%%%%%           %%%%%         \\n            %%%%%             %%%%%%%%%%%%%%%%%%%%%             %%%%%           \\n              %%%%%%%                                        %%%%%              \\n                 %%%%%%%                                 %%%%%%%                \\n                     %%%%%%%%%                     %%%%%%%%%                    \\n                          %%%%%%%%%%%%%%%%%%%%%%%%%%%%%                         \\n                                   %%%%%%%%%%%%                                 \\n                                                                                \\n                                                                                 \\n\\n'"
     },
     "execution_count": 19,
     "metadata": {},
     "output_type": "execute_result"
    }
   ],
   "source": [
    "decodedArt = decodeString(encodedArt)\n",
    "decodedArt"
   ],
   "metadata": {
    "collapsed": false,
    "ExecuteTime": {
     "end_time": "2023-06-01T06:00:45.108335Z",
     "start_time": "2023-06-01T06:00:45.104241Z"
    }
   }
  },
  {
   "cell_type": "code",
   "execution_count": null,
   "outputs": [],
   "source": [],
   "metadata": {
    "collapsed": false
   }
  }
 ],
 "metadata": {
  "kernelspec": {
   "display_name": "Python 3",
   "language": "python",
   "name": "python3"
  },
  "language_info": {
   "codemirror_mode": {
    "name": "ipython",
    "version": 2
   },
   "file_extension": ".py",
   "mimetype": "text/x-python",
   "name": "python",
   "nbconvert_exporter": "python",
   "pygments_lexer": "ipython2",
   "version": "2.7.6"
  }
 },
 "nbformat": 4,
 "nbformat_minor": 0
}
