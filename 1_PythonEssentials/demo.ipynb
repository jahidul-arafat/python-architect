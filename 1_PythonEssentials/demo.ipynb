{
 "cells": [
  {
   "cell_type": "markdown",
   "source": [
    "# Basic Data Structure Operations"
   ],
   "metadata": {
    "collapsed": false
   }
  },
  {
   "cell_type": "code",
   "execution_count": 14,
   "outputs": [
    {
     "name": "stdout",
     "output_type": "stream",
     "text": [
      "[51, 90, 81, 62, 68, 64, 20, 28, 95, 28]\n"
     ]
    }
   ],
   "source": [
    "import random\n",
    "\n",
    "# create a list of 10 random numbers between 0 and 100 using a shorthand function\n",
    "numbers = [random.randint(0, 100) for _ in range(10)]\n",
    "# print the list\n",
    "print(numbers)\n"
   ],
   "metadata": {
    "collapsed": false,
    "ExecuteTime": {
     "end_time": "2023-05-29T12:46:20.966421Z",
     "start_time": "2023-05-29T12:46:20.962323Z"
    }
   }
  },
  {
   "cell_type": "code",
   "execution_count": 15,
   "outputs": [],
   "source": [
    "# method to check if a list is sorted or not\n",
    "def is_sorted(lst):\n",
    "    return all(lst[i] <= lst[i + 1] for i in range(len(lst) - 1))"
   ],
   "metadata": {
    "collapsed": false,
    "ExecuteTime": {
     "end_time": "2023-05-29T12:46:20.973715Z",
     "start_time": "2023-05-29T12:46:20.967521Z"
    }
   }
  },
  {
   "cell_type": "code",
   "execution_count": 16,
   "outputs": [
    {
     "name": "stdout",
     "output_type": "stream",
     "text": [
      "False\n"
     ]
    }
   ],
   "source": [
    "# create a list of 10 random numbers between 0 and 100 using a shorthand function\n",
    "numbers = [random.randint(0, 100) for _ in range(10)]\n",
    "# check if the list is sorted\n",
    "print(is_sorted(numbers))"
   ],
   "metadata": {
    "collapsed": false,
    "ExecuteTime": {
     "end_time": "2023-05-29T12:46:20.976019Z",
     "start_time": "2023-05-29T12:46:20.970010Z"
    }
   }
  },
  {
   "cell_type": "code",
   "execution_count": 17,
   "outputs": [],
   "source": [
    "# Create a list of 10 random unique integers between 100 to 5000 using random sample\n",
    "numbers = random.sample(range(100, 5000), 10)"
   ],
   "metadata": {
    "collapsed": false,
    "ExecuteTime": {
     "end_time": "2023-05-29T12:46:20.987467Z",
     "start_time": "2023-05-29T12:46:20.975486Z"
    }
   }
  },
  {
   "cell_type": "code",
   "execution_count": 18,
   "outputs": [
    {
     "name": "stdout",
     "output_type": "stream",
     "text": [
      "[501, 4008, 731, 662, 2713, 3145, 1567, 2474, 654, 3084]\n"
     ]
    }
   ],
   "source": [
    "print(numbers)"
   ],
   "metadata": {
    "collapsed": false,
    "ExecuteTime": {
     "end_time": "2023-05-29T12:46:20.987983Z",
     "start_time": "2023-05-29T12:46:20.980311Z"
    }
   }
  },
  {
   "cell_type": "code",
   "execution_count": 19,
   "outputs": [
    {
     "name": "stdout",
     "output_type": "stream",
     "text": [
      "10\n",
      "[2713, 1567]\n",
      "2\n"
     ]
    }
   ],
   "source": [
    "# lambda function to check if a number is prime or not\n",
    "is_prime = lambda x: all(x % i != 0 for i in range(2, x))\n",
    "\n",
    "# print the length of the list\n",
    "print(len(numbers))\n",
    "# given the above numbers list, filter all the prime numbers\n",
    "filteredList=list(filter(is_prime, numbers))\n",
    "# print the filtered list\n",
    "print(filteredList)\n",
    "# print the length of the list\n",
    "print(len(filteredList))"
   ],
   "metadata": {
    "collapsed": false,
    "ExecuteTime": {
     "end_time": "2023-05-29T12:46:20.988156Z",
     "start_time": "2023-05-29T12:46:20.985177Z"
    }
   }
  },
  {
   "cell_type": "code",
   "execution_count": 19,
   "outputs": [],
   "source": [],
   "metadata": {
    "collapsed": false,
    "ExecuteTime": {
     "end_time": "2023-05-29T12:46:20.994692Z",
     "start_time": "2023-05-29T12:46:20.988497Z"
    }
   }
  }
 ],
 "metadata": {
  "kernelspec": {
   "display_name": "Python 3",
   "language": "python",
   "name": "python3"
  },
  "language_info": {
   "codemirror_mode": {
    "name": "ipython",
    "version": 2
   },
   "file_extension": ".py",
   "mimetype": "text/x-python",
   "name": "python",
   "nbconvert_exporter": "python",
   "pygments_lexer": "ipython2",
   "version": "2.7.6"
  }
 },
 "nbformat": 4,
 "nbformat_minor": 0
}
