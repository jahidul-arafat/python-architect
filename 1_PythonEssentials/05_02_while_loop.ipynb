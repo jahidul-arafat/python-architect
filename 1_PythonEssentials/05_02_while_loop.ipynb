{
 "cells": [
  {
   "cell_type": "markdown",
   "source": [
    "# While Loop"
   ],
   "metadata": {
    "collapsed": false
   }
  },
  {
   "cell_type": "code",
   "execution_count": 34,
   "outputs": [],
   "source": [
    "from datetime import datetime\n",
    "import math"
   ],
   "metadata": {
    "collapsed": false,
    "ExecuteTime": {
     "end_time": "2023-06-02T15:13:59.836471Z",
     "start_time": "2023-06-02T15:13:59.834269Z"
    }
   }
  },
  {
   "cell_type": "code",
   "execution_count": 10,
   "outputs": [
    {
     "name": "stdout",
     "output_type": "stream",
     "text": [
      "We are at 33 second\n"
     ]
    }
   ],
   "source": [
    "date = datetime.now().second\n",
    "date\n",
    "print(f'We are at {date} second')"
   ],
   "metadata": {
    "collapsed": false,
    "ExecuteTime": {
     "end_time": "2023-06-02T14:45:33.839030Z",
     "start_time": "2023-06-02T14:45:33.833931Z"
    }
   }
  },
  {
   "cell_type": "code",
   "execution_count": 11,
   "outputs": [
    {
     "name": "stdout",
     "output_type": "stream",
     "text": [
      "We are at 34 second\n"
     ]
    },
    {
     "ename": "AttributeError",
     "evalue": "attribute 'second' of 'datetime.datetime' objects is not writable",
     "output_type": "error",
     "traceback": [
      "\u001B[0;31m---------------------------------------------------------------------------\u001B[0m",
      "\u001B[0;31mAttributeError\u001B[0m                            Traceback (most recent call last)",
      "Cell \u001B[0;32mIn[11], line 4\u001B[0m\n\u001B[1;32m      2\u001B[0m \u001B[38;5;28;01mwhile\u001B[39;00m datetime\u001B[38;5;241m.\u001B[39mnow()\u001B[38;5;241m.\u001B[39msecond \u001B[38;5;241m<\u001B[39m waitUntil:\n\u001B[1;32m      3\u001B[0m     \u001B[38;5;28mprint\u001B[39m(\u001B[38;5;124mf\u001B[39m\u001B[38;5;124m'\u001B[39m\u001B[38;5;124mWe are at \u001B[39m\u001B[38;5;132;01m{\u001B[39;00mdatetime\u001B[38;5;241m.\u001B[39mnow()\u001B[38;5;241m.\u001B[39msecond\u001B[38;5;132;01m}\u001B[39;00m\u001B[38;5;124m second\u001B[39m\u001B[38;5;124m'\u001B[39m)\n\u001B[0;32m----> 4\u001B[0m     \u001B[43mdatetime\u001B[49m\u001B[38;5;241;43m.\u001B[39;49m\u001B[43mnow\u001B[49m\u001B[43m(\u001B[49m\u001B[43m)\u001B[49m\u001B[38;5;241;43m.\u001B[39;49m\u001B[43msecond\u001B[49m \u001B[38;5;241m=\u001B[39m datetime\u001B[38;5;241m.\u001B[39mnow()\u001B[38;5;241m.\u001B[39msecond \u001B[38;5;241m+\u001B[39m \u001B[38;5;241m1\u001B[39m\n",
      "\u001B[0;31mAttributeError\u001B[0m: attribute 'second' of 'datetime.datetime' objects is not writable"
     ]
    }
   ],
   "source": [
    "waitUntil = datetime.now().second+10\n",
    "while datetime.now().second < waitUntil:\n",
    "    print(f'We are at {datetime.now().second} second')\n",
    "    datetime.now().second = datetime.now().second + 1"
   ],
   "metadata": {
    "collapsed": false,
    "ExecuteTime": {
     "end_time": "2023-06-02T14:46:34.208254Z",
     "start_time": "2023-06-02T14:46:34.046058Z"
    }
   }
  },
  {
   "cell_type": "markdown",
   "source": [
    "# ForLoop"
   ],
   "metadata": {
    "collapsed": false
   }
  },
  {
   "cell_type": "code",
   "execution_count": 16,
   "outputs": [
    {
     "data": {
      "text/plain": "{'a': ['cat', 'dog'],\n 'b': ['bird', 'fish'],\n 'c': ['cow'],\n 'd': ['dog', 'cat'],\n 'e': ['fish', 'bird'],\n 'f': ['horse']}"
     },
     "execution_count": 16,
     "metadata": {},
     "output_type": "execute_result"
    }
   ],
   "source": [
    "# create a animalLookUp dictionary\n",
    "animalLookUp = {\n",
    "    'a':['cat', 'dog'],\n",
    "    'b':['bird', 'fish'],\n",
    "    'c':['cow'],\n",
    "    'd':['dog', 'cat'],\n",
    "    'e':['fish', 'bird'],\n",
    "    'f':['horse']\n",
    "}\n",
    "animalLookUp"
   ],
   "metadata": {
    "collapsed": false,
    "ExecuteTime": {
     "end_time": "2023-06-02T14:51:05.969639Z",
     "start_time": "2023-06-02T14:51:05.967156Z"
    }
   }
  },
  {
   "cell_type": "code",
   "execution_count": 21,
   "outputs": [
    {
     "name": "stdout",
     "output_type": "stream",
     "text": [
      "c has 1 animals/ ['cow']\n",
      "f has 1 animals/ ['horse']\n"
     ]
    }
   ],
   "source": [
    "for letter, animals in animalLookUp.items():\n",
    "    if len(animals) > 1:\n",
    "        continue\n",
    "    print(f'{letter} has {len(animals)} animals/ {animals}')"
   ],
   "metadata": {
    "collapsed": false,
    "ExecuteTime": {
     "end_time": "2023-06-02T14:52:09.809993Z",
     "start_time": "2023-06-02T14:52:09.806225Z"
    }
   }
  },
  {
   "cell_type": "markdown",
   "source": [
    "## For/Else"
   ],
   "metadata": {
    "collapsed": false
   }
  },
  {
   "cell_type": "code",
   "execution_count": 37,
   "outputs": [
    {
     "name": "stdout",
     "output_type": "stream",
     "text": [
      "2 is prime\n",
      "3 is prime\n",
      "5 is prime\n",
      "7 is prime\n",
      "11 is prime\n",
      "13 is prime\n",
      "17 is prime\n",
      "19 is prime\n",
      "23 is prime\n",
      "29 is prime\n",
      "31 is prime\n",
      "37 is prime\n",
      "41 is prime\n",
      "43 is prime\n",
      "47 is prime\n",
      "53 is prime\n",
      "59 is prime\n",
      "61 is prime\n",
      "67 is prime\n",
      "71 is prime\n",
      "73 is prime\n",
      "79 is prime\n",
      "83 is prime\n",
      "89 is prime\n",
      "97 is prime\n"
     ]
    }
   ],
   "source": [
    "# enhanced way using for/else\n",
    "for number in range(2,101):\n",
    "    for factor in range(2, int(math.sqrt(number))+1):\n",
    "        if number % factor == 0:\n",
    "            break\n",
    "    else:\n",
    "        print(f'{number} is prime')"
   ],
   "metadata": {
    "collapsed": false,
    "ExecuteTime": {
     "end_time": "2023-06-02T15:14:29.168116Z",
     "start_time": "2023-06-02T15:14:29.164287Z"
    }
   }
  },
  {
   "cell_type": "code",
   "execution_count": 39,
   "outputs": [
    {
     "name": "stdout",
     "output_type": "stream",
     "text": [
      "2 is prime\n",
      "3 is prime\n",
      "5 is prime\n",
      "7 is prime\n",
      "11 is prime\n",
      "13 is prime\n",
      "17 is prime\n",
      "19 is prime\n",
      "23 is prime\n",
      "29 is prime\n",
      "31 is prime\n",
      "37 is prime\n",
      "41 is prime\n",
      "43 is prime\n",
      "47 is prime\n",
      "53 is prime\n",
      "59 is prime\n",
      "61 is prime\n",
      "67 is prime\n",
      "71 is prime\n",
      "73 is prime\n",
      "79 is prime\n",
      "83 is prime\n",
      "89 is prime\n",
      "97 is prime\n"
     ]
    }
   ],
   "source": [
    "# poor way to do it\n",
    "for number in range(2,101):\n",
    "    hasFactor = False\n",
    "    for factor in range(2, int(math.sqrt(number))+1):\n",
    "        if number % factor == 0:\n",
    "            hasFactor = True\n",
    "    if not hasFactor:\n",
    "        print(f'{number} is prime')"
   ],
   "metadata": {
    "collapsed": false,
    "ExecuteTime": {
     "end_time": "2023-06-02T15:14:38.142350Z",
     "start_time": "2023-06-02T15:14:38.139082Z"
    }
   }
  },
  {
   "cell_type": "code",
   "execution_count": 40,
   "outputs": [
    {
     "data": {
      "text/plain": "7.0710678118654755"
     },
     "execution_count": 40,
     "metadata": {},
     "output_type": "execute_result"
    }
   ],
   "source": [],
   "metadata": {
    "collapsed": false,
    "ExecuteTime": {
     "end_time": "2023-06-02T15:14:58.741102Z",
     "start_time": "2023-06-02T15:14:58.738156Z"
    }
   }
  },
  {
   "cell_type": "code",
   "execution_count": 6,
   "outputs": [
    {
     "name": "stdout",
     "output_type": "stream",
     "text": [
      "1\n",
      "2\n",
      "3\n",
      "4\n",
      "5\n",
      "6\n",
      "7\n",
      "8\n",
      "9\n",
      "10\n"
     ]
    }
   ],
   "source": [],
   "metadata": {
    "collapsed": false,
    "ExecuteTime": {
     "end_time": "2023-06-02T15:52:03.203397Z",
     "start_time": "2023-06-02T15:52:03.201874Z"
    }
   }
  }
 ],
 "metadata": {
  "kernelspec": {
   "display_name": "Python 3",
   "language": "python",
   "name": "python3"
  },
  "language_info": {
   "codemirror_mode": {
    "name": "ipython",
    "version": 2
   },
   "file_extension": ".py",
   "mimetype": "text/x-python",
   "name": "python",
   "nbconvert_exporter": "python",
   "pygments_lexer": "ipython2",
   "version": "2.7.6"
  }
 },
 "nbformat": 4,
 "nbformat_minor": 0
}
