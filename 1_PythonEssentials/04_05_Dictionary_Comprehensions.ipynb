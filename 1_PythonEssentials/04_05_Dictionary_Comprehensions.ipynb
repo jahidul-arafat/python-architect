{
 "cells": [
  {
   "cell_type": "markdown",
   "source": [
    "# Dictionary Comprehension"
   ],
   "metadata": {
    "collapsed": false
   }
  },
  {
   "cell_type": "code",
   "execution_count": 7,
   "outputs": [
    {
     "name": "stdout",
     "output_type": "stream",
     "text": [
      "{'a': 'aaaa', 'b': 'bbbb', 'c': 'cccc'}\n",
      "{'a': 'aaaa', 'b': 'bbbb', 'c': 'cccc'}\n"
     ]
    }
   ],
   "source": [
    "# create a list of tuples\n",
    "animalList = [('a','aaaa'), ('b','bbbb'), ('c','cccc')]\n",
    "# use dictionary comprehension to convert the list to a dictionary\n",
    "animalDict = {animal[0]:animal[1] for animal in animalList}\n",
    "print(animalDict)\n",
    "animalDict = {k:v for k,v in animalList}\n",
    "print(animalDict)"
   ],
   "metadata": {
    "collapsed": false,
    "ExecuteTime": {
     "end_time": "2023-06-02T14:21:47.540226Z",
     "start_time": "2023-06-02T14:21:47.533684Z"
    }
   }
  },
  {
   "cell_type": "code",
   "execution_count": 15,
   "outputs": [
    {
     "data": {
      "text/plain": "[('a', 'aaaa'), ('b', 'bbbb'), ('c', 'cccc')]"
     },
     "execution_count": 15,
     "metadata": {},
     "output_type": "execute_result"
    }
   ],
   "source": [
    "# convert a dictionary to a list of tuples\n",
    "list(animalDict.items())"
   ],
   "metadata": {
    "collapsed": false,
    "ExecuteTime": {
     "end_time": "2023-06-02T14:24:01.160281Z",
     "start_time": "2023-06-02T14:24:01.155741Z"
    }
   }
  },
  {
   "cell_type": "code",
   "execution_count": 16,
   "outputs": [
    {
     "data": {
      "text/plain": "[{'letter': 'a', 'value': 'aaaa'},\n {'letter': 'b', 'value': 'bbbb'},\n {'letter': 'c', 'value': 'cccc'}]"
     },
     "execution_count": 16,
     "metadata": {},
     "output_type": "execute_result"
    }
   ],
   "source": [
    "[{'letter':key, 'value':value} for key,value in animalDict.items()]"
   ],
   "metadata": {
    "collapsed": false,
    "ExecuteTime": {
     "end_time": "2023-06-02T14:24:43.198552Z",
     "start_time": "2023-06-02T14:24:43.193386Z"
    }
   }
  },
  {
   "cell_type": "code",
   "execution_count": null,
   "outputs": [],
   "source": [],
   "metadata": {
    "collapsed": false
   }
  }
 ],
 "metadata": {
  "kernelspec": {
   "display_name": "Python 3",
   "language": "python",
   "name": "python3"
  },
  "language_info": {
   "codemirror_mode": {
    "name": "ipython",
    "version": 2
   },
   "file_extension": ".py",
   "mimetype": "text/x-python",
   "name": "python",
   "nbconvert_exporter": "python",
   "pygments_lexer": "ipython2",
   "version": "2.7.6"
  }
 },
 "nbformat": 4,
 "nbformat_minor": 0
}
