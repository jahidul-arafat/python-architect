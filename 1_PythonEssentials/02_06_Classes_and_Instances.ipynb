{
 "cells": [
  {
   "cell_type": "markdown",
   "source": [
    "# Classes and Instances"
   ],
   "metadata": {
    "collapsed": false
   }
  },
  {
   "cell_type": "code",
   "execution_count": 5,
   "outputs": [],
   "source": [
    "# create a class called Person\n",
    "class Person:\n",
    "    def __init__(self, name, age):\n",
    "        self.name = name\n",
    "        self.age = age\n",
    "\n",
    "    # instance method 'speak'\n",
    "    def speak(self):\n",
    "        print(f\"My name is {self.name} and I am {self.age} years old.\")\n",
    "    # getter\n",
    "    def get_name(self):\n",
    "        return self.name\n",
    "    # setter\n",
    "    def set_name(self, new_name):\n",
    "        self.name = new_name\n",
    "    # getter\n",
    "    def get_age(self):\n",
    "        return self.age\n",
    "    # setter\n",
    "    def set_age(self, new_age):\n",
    "        self.age = new_age\n",
    "    # print the object\n",
    "    def __str__(self):\n",
    "        return f\"Printing Object//My name is {self.name} and I am {self.age} years old.\"\n"
   ],
   "metadata": {
    "collapsed": false,
    "ExecuteTime": {
     "end_time": "2023-05-31T03:28:55.027529Z",
     "start_time": "2023-05-31T03:28:55.022556Z"
    }
   }
  },
  {
   "cell_type": "code",
   "execution_count": 6,
   "outputs": [
    {
     "name": "stdout",
     "output_type": "stream",
     "text": [
      "My name is John and I am 35 years old.\n",
      "My name is Jane and I am 25 years old.\n",
      "Printing Object//My name is Jane and I am 25 years old.\n"
     ]
    }
   ],
   "source": [
    "# create an instance of Person\n",
    "p1 = Person(\"John\", 35)\n",
    "p1.speak()\n",
    "\n",
    "# create an instance of Person\n",
    "p2 = Person(\"Jane\", 25)\n",
    "p2.speak()\n",
    "print(p2)\n"
   ],
   "metadata": {
    "collapsed": false,
    "ExecuteTime": {
     "end_time": "2023-05-31T03:28:56.617617Z",
     "start_time": "2023-05-31T03:28:56.613216Z"
    }
   }
  },
  {
   "cell_type": "code",
   "execution_count": null,
   "outputs": [],
   "source": [],
   "metadata": {
    "collapsed": false
   }
  }
 ],
 "metadata": {
  "kernelspec": {
   "display_name": "Python 3",
   "language": "python",
   "name": "python3"
  },
  "language_info": {
   "codemirror_mode": {
    "name": "ipython",
    "version": 2
   },
   "file_extension": ".py",
   "mimetype": "text/x-python",
   "name": "python",
   "nbconvert_exporter": "python",
   "pygments_lexer": "ipython2",
   "version": "2.7.6"
  }
 },
 "nbformat": 4,
 "nbformat_minor": 0
}
