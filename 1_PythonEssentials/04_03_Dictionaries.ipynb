{
 "cells": [
  {
   "cell_type": "markdown",
   "source": [
    "# Dictionaries"
   ],
   "metadata": {
    "collapsed": false
   }
  },
  {
   "cell_type": "code",
   "execution_count": 2,
   "outputs": [
    {
     "data": {
      "text/plain": "{'a': 'aaaa', 'b': 'bbbb', 'c': 'cccc'}"
     },
     "execution_count": 2,
     "metadata": {},
     "output_type": "execute_result"
    }
   ],
   "source": [
    "# create an animal dictionary\n",
    "animal_dict = {\n",
    "    'a':'aaaa',\n",
    "    'b':'bbbb',\n",
    "    'c':'cccc',\n",
    "}\n",
    "\n",
    "animal_dict"
   ],
   "metadata": {
    "collapsed": false,
    "ExecuteTime": {
     "end_time": "2023-06-01T04:07:27.561382Z",
     "start_time": "2023-06-01T04:07:27.548796Z"
    }
   }
  },
  {
   "cell_type": "code",
   "execution_count": 17,
   "outputs": [
    {
     "data": {
      "text/plain": "'default value'"
     },
     "execution_count": 17,
     "metadata": {},
     "output_type": "execute_result"
    }
   ],
   "source": [
    "animal_dict.get('d',\"default value\")"
   ],
   "metadata": {
    "collapsed": false,
    "ExecuteTime": {
     "end_time": "2023-06-01T04:13:56.967462Z",
     "start_time": "2023-06-01T04:13:56.963679Z"
    }
   }
  },
  {
   "cell_type": "code",
   "execution_count": 18,
   "outputs": [
    {
     "data": {
      "text/plain": "3"
     },
     "execution_count": 18,
     "metadata": {},
     "output_type": "execute_result"
    }
   ],
   "source": [
    "len(animal_dict)"
   ],
   "metadata": {
    "collapsed": false,
    "ExecuteTime": {
     "end_time": "2023-06-01T04:14:24.711449Z",
     "start_time": "2023-06-01T04:14:24.706789Z"
    }
   }
  },
  {
   "cell_type": "code",
   "execution_count": 19,
   "outputs": [
    {
     "data": {
      "text/plain": "{'a': ['aaaa', 'xxxx'], 'b': ['bbbb'], 'c': ['cccc']}"
     },
     "execution_count": 19,
     "metadata": {},
     "output_type": "execute_result"
    }
   ],
   "source": [
    "# add a dictionary of lists\n",
    "animal_dict = {\n",
    "    'a':['aaaa'],\n",
    "    'b':['bbbb'],\n",
    "    'c':['cccc'],\n",
    "}\n",
    "\n",
    "animal_dict['a'].append('xxxx')\n",
    "animal_dict"
   ],
   "metadata": {
    "collapsed": false,
    "ExecuteTime": {
     "end_time": "2023-06-01T04:15:47.503472Z",
     "start_time": "2023-06-01T04:15:47.498624Z"
    }
   }
  },
  {
   "cell_type": "code",
   "execution_count": 24,
   "outputs": [
    {
     "data": {
      "text/plain": "{'a': ['aaaa', 'xxxx'],\n 'b': ['bbbb'],\n 'c': ['cccc'],\n 'd': ['xxxx', 'xxxx', 'xxxx']}"
     },
     "execution_count": 24,
     "metadata": {},
     "output_type": "execute_result"
    }
   ],
   "source": [
    "if 'd' not in animal_dict:\n",
    "    animal_dict['d'] = []\n",
    "\n",
    "animal_dict['d'].append('xxxx')\n",
    "animal_dict"
   ],
   "metadata": {
    "collapsed": false,
    "ExecuteTime": {
     "end_time": "2023-06-01T04:16:49.838194Z",
     "start_time": "2023-06-01T04:16:49.832077Z"
    }
   }
  },
  {
   "cell_type": "markdown",
   "source": [
    "## Default Dictionary"
   ],
   "metadata": {
    "collapsed": false
   }
  },
  {
   "cell_type": "code",
   "execution_count": 1,
   "outputs": [
    {
     "data": {
      "text/plain": "defaultdict(list, {'a': ['aaaa']})"
     },
     "execution_count": 1,
     "metadata": {},
     "output_type": "execute_result"
    }
   ],
   "source": [
    "from collections import defaultdict\n",
    "animalDefaultDict = defaultdict(list)\n",
    "animalDefaultDict['a'].append('aaaa')\n",
    "animalDefaultDict\n"
   ],
   "metadata": {
    "collapsed": false,
    "ExecuteTime": {
     "end_time": "2023-06-01T04:20:30.973811Z",
     "start_time": "2023-06-01T04:20:30.963473Z"
    }
   }
  },
  {
   "cell_type": "code",
   "execution_count": 3,
   "outputs": [],
   "source": [
    "animalDefaultDict['b'].append('bbbb')"
   ],
   "metadata": {
    "collapsed": false,
    "ExecuteTime": {
     "end_time": "2023-06-01T04:37:49.350359Z",
     "start_time": "2023-06-01T04:37:49.346367Z"
    }
   }
  },
  {
   "cell_type": "code",
   "execution_count": 4,
   "outputs": [
    {
     "data": {
      "text/plain": "defaultdict(list, {'a': ['aaaa'], 'b': ['bbbb']})"
     },
     "execution_count": 4,
     "metadata": {},
     "output_type": "execute_result"
    }
   ],
   "source": [
    "animalDefaultDict"
   ],
   "metadata": {
    "collapsed": false,
    "ExecuteTime": {
     "end_time": "2023-06-01T04:37:51.516320Z",
     "start_time": "2023-06-01T04:37:51.511701Z"
    }
   }
  },
  {
   "cell_type": "code",
   "execution_count": 5,
   "outputs": [
    {
     "data": {
      "text/plain": "2"
     },
     "execution_count": 5,
     "metadata": {},
     "output_type": "execute_result"
    }
   ],
   "source": [
    "len(animalDefaultDict)"
   ],
   "metadata": {
    "collapsed": false,
    "ExecuteTime": {
     "end_time": "2023-06-01T04:38:17.544277Z",
     "start_time": "2023-06-01T04:38:17.540722Z"
    }
   }
  },
  {
   "cell_type": "code",
   "execution_count": 6,
   "outputs": [
    {
     "data": {
      "text/plain": "dict_keys(['a', 'b'])"
     },
     "execution_count": 6,
     "metadata": {},
     "output_type": "execute_result"
    }
   ],
   "source": [
    "animalDefaultDict.keys()"
   ],
   "metadata": {
    "collapsed": false,
    "ExecuteTime": {
     "end_time": "2023-06-01T04:38:23.398039Z",
     "start_time": "2023-06-01T04:38:23.393984Z"
    }
   }
  },
  {
   "cell_type": "code",
   "execution_count": 7,
   "outputs": [
    {
     "data": {
      "text/plain": "dict_values([['aaaa'], ['bbbb']])"
     },
     "execution_count": 7,
     "metadata": {},
     "output_type": "execute_result"
    }
   ],
   "source": [
    "animalDefaultDict.values()\n"
   ],
   "metadata": {
    "collapsed": false,
    "ExecuteTime": {
     "end_time": "2023-06-01T04:41:53.311761Z",
     "start_time": "2023-06-01T04:41:53.306632Z"
    }
   }
  },
  {
   "cell_type": "code",
   "execution_count": 8,
   "outputs": [
    {
     "name": "stdout",
     "output_type": "stream",
     "text": [
      "a ['aaaa']\n",
      "b ['bbbb']\n"
     ]
    }
   ],
   "source": [
    "# iterate through the dictionary and print the keys and values\n",
    "for key, value in animalDefaultDict.items():\n",
    "    print(key, value)"
   ],
   "metadata": {
    "collapsed": false,
    "ExecuteTime": {
     "end_time": "2023-06-01T04:42:11.304418Z",
     "start_time": "2023-06-01T04:42:11.299619Z"
    }
   }
  },
  {
   "cell_type": "code",
   "execution_count": null,
   "outputs": [],
   "source": [],
   "metadata": {
    "collapsed": false
   }
  }
 ],
 "metadata": {
  "kernelspec": {
   "display_name": "Python 3",
   "language": "python",
   "name": "python3"
  },
  "language_info": {
   "codemirror_mode": {
    "name": "ipython",
    "version": 2
   },
   "file_extension": ".py",
   "mimetype": "text/x-python",
   "name": "python",
   "nbconvert_exporter": "python",
   "pygments_lexer": "ipython2",
   "version": "2.7.6"
  }
 },
 "nbformat": 4,
 "nbformat_minor": 0
}
